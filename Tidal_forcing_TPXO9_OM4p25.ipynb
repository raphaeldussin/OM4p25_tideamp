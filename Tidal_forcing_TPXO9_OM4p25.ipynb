{
 "cells": [
  {
   "cell_type": "markdown",
   "metadata": {},
   "source": [
    "# Creating the tidal amplitudes forcing for OM4p25 using TPXO9"
   ]
  },
  {
   "cell_type": "markdown",
   "metadata": {},
   "source": [
    "NB: this takes about 30 minutes and requires a machine with at least 64GB or RAM. I ran it on PP/AN an008."
   ]
  },
  {
   "cell_type": "markdown",
   "metadata": {},
   "source": [
    "To provide the tidal amplitudes array for OM4, we use the tidal velocities coming from TPXO for the following harmonics:\n",
    "\n",
    "M2, S2, N2, K2, K1, O1, P1, Q1."
   ]
  },
  {
   "cell_type": "code",
   "execution_count": null,
   "metadata": {},
   "outputs": [],
   "source": [
    "import xarray as xr\n",
    "import cartopy.crs as ccrs\n",
    "import matplotlib.pyplot as plt\n",
    "import xesmf\n",
    "from xgcm import Grid\n",
    "import numpy as np"
   ]
  },
  {
   "cell_type": "code",
   "execution_count": null,
   "metadata": {},
   "outputs": [],
   "source": [
    "_ = xr.set_options(display_style='text')"
   ]
  },
  {
   "cell_type": "markdown",
   "metadata": {},
   "source": [
    "Model grid file to use is:"
   ]
  },
  {
   "cell_type": "code",
   "execution_count": null,
   "metadata": {},
   "outputs": [],
   "source": [
    "OM4gridfile = '/archive/gold/datasets/OM4_025/mosaic.v20170622.unpacked/ocean_static.nc'"
   ]
  },
  {
   "cell_type": "markdown",
   "metadata": {},
   "source": [
    "## Load the TPXO dataset and create a grid object"
   ]
  },
  {
   "cell_type": "markdown",
   "metadata": {},
   "source": [
    "The dataset is not given in CF-compliant format so there is a bit of dataset manipulation involved here. First let's define the harmonics we're gonna be using:"
   ]
  },
  {
   "cell_type": "code",
   "execution_count": null,
   "metadata": {},
   "outputs": [],
   "source": [
    "harmonics = [\"m2\", \"s2\", \"n2\", \"k2\", \"k1\", \"o1\", \"p1\", \"q1\"]"
   ]
  },
  {
   "cell_type": "code",
   "execution_count": null,
   "metadata": {},
   "outputs": [],
   "source": [
    "tpxodir = '/net2/rnd/TPXO/'"
   ]
  },
  {
   "cell_type": "code",
   "execution_count": null,
   "metadata": {},
   "outputs": [],
   "source": [
    "tpxo_gridfile = f'{tpxodir}/TPXO9/grid_tpxo9_atlas_30_v2.nc'\n",
    "tpxo_files = []\n",
    "for harm in harmonics:\n",
    "    tpxo_files.append(f'{tpxodir}/TPXO9/u_{harm}_tpxo9_atlas_30_v2.nc')"
   ]
  },
  {
   "cell_type": "markdown",
   "metadata": {},
   "source": [
    "Open all tidal velocity files and concatenate along harmonic dimension:"
   ]
  },
  {
   "cell_type": "code",
   "execution_count": null,
   "metadata": {},
   "outputs": [],
   "source": [
    "tpxo9 = xr.open_mfdataset(tpxo_files, concat_dim='harmonic', combine='nested')"
   ]
  },
  {
   "cell_type": "markdown",
   "metadata": {},
   "source": [
    "Longitude/Latitude do not need to be dependent on harmonics:"
   ]
  },
  {
   "cell_type": "code",
   "execution_count": null,
   "metadata": {},
   "outputs": [],
   "source": [
    "tpxo9 = tpxo9.assign_coords({'lon_u': xr.DataArray(tpxo9['lon_u'].isel(harmonic=0), dims=['lon_u'])})\n",
    "tpxo9 = tpxo9.assign_coords({'lat_u': xr.DataArray(tpxo9['lat_u'].isel(harmonic=0), dims=['lat_u'])})\n",
    "tpxo9 = tpxo9.assign_coords({'lon_v': xr.DataArray(tpxo9['lon_v'].isel(harmonic=0), dims=['lon_v'])})\n",
    "tpxo9 = tpxo9.assign_coords({'lat_v': xr.DataArray(tpxo9['lat_v'].isel(harmonic=0), dims=['lat_v'])})"
   ]
  },
  {
   "cell_type": "markdown",
   "metadata": {},
   "source": [
    "harmonics needs its own data array:"
   ]
  },
  {
   "cell_type": "code",
   "execution_count": null,
   "metadata": {},
   "outputs": [],
   "source": [
    "tpxo9['harmonic'] = xr.DataArray(data=harmonics, dims=['harmonic'])"
   ]
  },
  {
   "cell_type": "markdown",
   "metadata": {},
   "source": [
    "Dimensions (nx,ny) are not giving information on the data point locations, renamed to something more explicit:"
   ]
  },
  {
   "cell_type": "code",
   "execution_count": null,
   "metadata": {},
   "outputs": [],
   "source": [
    "tpxo9['uRe'] = tpxo9['uRe'].rename({'nx': 'lon_u', 'ny': 'lat_u'})\n",
    "tpxo9['uIm'] = tpxo9['uIm'].rename({'nx': 'lon_u', 'ny': 'lat_u'})\n",
    "\n",
    "tpxo9['vRe'] = tpxo9['vRe'].rename({'nx': 'lon_v', 'ny': 'lat_v'})\n",
    "tpxo9['vIm'] = tpxo9['vIm'].rename({'nx': 'lon_v', 'ny': 'lat_v'})"
   ]
  },
  {
   "cell_type": "code",
   "execution_count": null,
   "metadata": {},
   "outputs": [],
   "source": [
    "tpxo9"
   ]
  },
  {
   "cell_type": "markdown",
   "metadata": {},
   "source": [
    "Merge with the grid file (same considerations apply):"
   ]
  },
  {
   "cell_type": "code",
   "execution_count": null,
   "metadata": {},
   "outputs": [],
   "source": [
    "tpxo9_grid = xr.open_dataset(tpxo_gridfile)\n",
    "tpxo9_grid = tpxo9_grid.assign_coords({'lon_u': xr.DataArray(tpxo9_grid['lon_u'], dims=['lon_u']),\n",
    "                                       'lat_u': xr.DataArray(tpxo9_grid['lat_u'], dims=['lat_u']),\n",
    "                                       'lon_v': xr.DataArray(tpxo9_grid['lon_v'], dims=['lon_v']),\n",
    "                                       'lat_v': xr.DataArray(tpxo9_grid['lat_v'], dims=['lat_v']),\n",
    "                                       'lon_z': xr.DataArray(tpxo9_grid['lon_z'], dims=['lon_z']),\n",
    "                                       'lat_z': xr.DataArray(tpxo9_grid['lat_z'], dims=['lat_z'])})\n",
    "\n",
    "tpxo9_grid['hz'] = tpxo9_grid['hz'].rename({'nx': 'lon_z', 'ny': 'lat_z'})\n",
    "tpxo9_grid['hu'] = tpxo9_grid['hu'].rename({'nx': 'lon_u', 'ny': 'lat_u'})\n",
    "tpxo9_grid['hv'] = tpxo9_grid['hv'].rename({'nx': 'lon_v', 'ny': 'lat_v'})"
   ]
  },
  {
   "cell_type": "code",
   "execution_count": null,
   "metadata": {},
   "outputs": [],
   "source": [
    "tpxo9_grid"
   ]
  },
  {
   "cell_type": "code",
   "execution_count": null,
   "metadata": {},
   "outputs": [],
   "source": [
    "tpxo9_merged = xr.merge([tpxo9, tpxo9_grid])"
   ]
  },
  {
   "cell_type": "code",
   "execution_count": null,
   "metadata": {},
   "outputs": [],
   "source": [
    "tpxo9_merged"
   ]
  },
  {
   "cell_type": "markdown",
   "metadata": {},
   "source": [
    "The TPXO grid follows a C-grid staggering with south-west origin.\n",
    "With that knowledge, we can create a xgcm grid object. Notice the order of U,V and Z (center) points:"
   ]
  },
  {
   "cell_type": "code",
   "execution_count": null,
   "metadata": {},
   "outputs": [],
   "source": [
    "tpxogrid = Grid(tpxo9_merged, coords={'X': {'center': 'lon_z', 'left': 'lon_u'},\n",
    "                                      'Y': {'center': 'lat_z', 'left': 'lat_v'}},\n",
    "                                      periodic=['X'])"
   ]
  },
  {
   "cell_type": "code",
   "execution_count": null,
   "metadata": {},
   "outputs": [],
   "source": [
    "tpxogrid"
   ]
  },
  {
   "cell_type": "markdown",
   "metadata": {},
   "source": [
    "Now let's get rid of the redondant dimensions:"
   ]
  },
  {
   "cell_type": "code",
   "execution_count": null,
   "metadata": {},
   "outputs": [],
   "source": [
    "tpxo9_merged['uRe'] = tpxo9_merged['uRe'].rename({'lat_u': 'lat_z'})\n",
    "tpxo9_merged['uIm'] = tpxo9_merged['uIm'].rename({'lat_u': 'lat_z'})\n",
    "tpxo9_merged['hu']  = tpxo9_merged['hu'].rename({'lat_u': 'lat_z'})\n",
    "\n",
    "tpxo9_merged['vRe'] = tpxo9_merged['vRe'].rename({'lon_v': 'lon_z'})\n",
    "tpxo9_merged['vIm'] = tpxo9_merged['vIm'].rename({'lon_v': 'lon_z'})\n",
    "tpxo9_merged['hv']  = tpxo9_merged['hv'].rename({'lon_v': 'lon_z'})"
   ]
  },
  {
   "cell_type": "markdown",
   "metadata": {},
   "source": [
    "## Computing the tidal velocities amplitude:"
   ]
  },
  {
   "cell_type": "markdown",
   "metadata": {},
   "source": [
    "Tidal transports (in the sense of $h \\times u$, where $h$ is the total depth and $u$ the tidal velocity) are given in complex form $uRe + j \\times uIm$. We obtain the squared amplitude using $U^{2} = uRe^{2} + uIm^{2}$\n",
    "\n",
    "We also convert units for $uRe$ and $uIm$ from $cm^{2}.s^{-1}$ to $m^{2}.s^{-1}$ and since we're working with squared values, the conversion factor is then $10^{-8}$.\n",
    "\n",
    "Also note that TPXO provides transports encoded as integer!!! Hence we need to convert to double precision otherwise the arrays are meaningless."
   ]
  },
  {
   "cell_type": "code",
   "execution_count": null,
   "metadata": {},
   "outputs": [],
   "source": [
    "tpxo9_merged['U2'] =  1.0e-8 * ((tpxo9_merged['uRe'].astype('f8') * tpxo9_merged['uRe'].astype('f8')) +\n",
    "                                (tpxo9_merged['uIm'].astype('f8') * tpxo9_merged['uIm'].astype('f8')))\n",
    "\n",
    "tpxo9_merged['V2'] =  1.0e-8 * ((tpxo9_merged['vRe'].astype('f8') * tpxo9_merged['vRe'].astype('f8')) +\n",
    "                                (tpxo9_merged['vIm'].astype('f8') * tpxo9_merged['vIm'].astype('f8')))"
   ]
  },
  {
   "cell_type": "markdown",
   "metadata": {},
   "source": [
    "Transpose and mask land values:"
   ]
  },
  {
   "cell_type": "code",
   "execution_count": null,
   "metadata": {},
   "outputs": [],
   "source": [
    "tpxo9_merged['U2'] = tpxo9_merged['U2'].where(tpxo9_merged['U2'] !=0).transpose(*('harmonic', 'lat_z', 'lon_u'))\n",
    "tpxo9_merged['V2'] = tpxo9_merged['V2'].where(tpxo9_merged['V2'] !=0).transpose(*('harmonic', 'lat_v', 'lon_z'))"
   ]
  },
  {
   "cell_type": "code",
   "execution_count": null,
   "metadata": {},
   "outputs": [],
   "source": [
    "tpxo9_merged['hu'] = tpxo9_merged['hu'].where(tpxo9_merged['hu']).transpose(*('lat_z', 'lon_u'))\n",
    "tpxo9_merged['hv'] = tpxo9_merged['hv'].where(tpxo9_merged['hv']).transpose(*('lat_v', 'lon_z'))"
   ]
  },
  {
   "cell_type": "markdown",
   "metadata": {},
   "source": [
    "Get the corresponding velocities squared, by dividing by the square of ocean depth at U and V points:"
   ]
  },
  {
   "cell_type": "code",
   "execution_count": null,
   "metadata": {},
   "outputs": [],
   "source": [
    "tpxo9_merged['u2'] = tpxo9_merged['U2'] / (tpxo9_merged['hu'] * tpxo9_merged['hu'])\n",
    "\n",
    "tpxo9_merged['v2'] = tpxo9_merged['V2'] / (tpxo9_merged['hv'] * tpxo9_merged['hv'])"
   ]
  },
  {
   "cell_type": "markdown",
   "metadata": {},
   "source": [
    "Now we sum the two components on the center of the cells:"
   ]
  },
  {
   "cell_type": "code",
   "execution_count": null,
   "metadata": {},
   "outputs": [],
   "source": [
    "tpxo9_merged['umod2'] = tpxogrid.interp(tpxo9_merged['u2'], 'X', boundary='fill') + \\\n",
    "                        tpxogrid.interp(tpxo9_merged['v2'], 'Y', boundary='fill')"
   ]
  },
  {
   "cell_type": "markdown",
   "metadata": {},
   "source": [
    "Sum over all the harmonics:"
   ]
  },
  {
   "cell_type": "code",
   "execution_count": null,
   "metadata": {},
   "outputs": [],
   "source": [
    "tpxo9_merged['tideamp2'] = tpxo9_merged['umod2'].sum(dim='harmonic')"
   ]
  },
  {
   "cell_type": "markdown",
   "metadata": {},
   "source": [
    "Take the square-root lazily:"
   ]
  },
  {
   "cell_type": "code",
   "execution_count": null,
   "metadata": {},
   "outputs": [],
   "source": [
    "tpxo9_merged['tideamp'] = xr.apply_ufunc(np.sqrt, tpxo9_merged['tideamp2'],\n",
    "                                         dask='parallelized',\n",
    "                                         output_dtypes=[np.dtype('f8')])"
   ]
  },
  {
   "cell_type": "code",
   "execution_count": null,
   "metadata": {},
   "outputs": [],
   "source": [
    "tpxo9_merged['tideamp'].load()"
   ]
  },
  {
   "cell_type": "markdown",
   "metadata": {},
   "source": [
    "### Create a mask for the source array:"
   ]
  },
  {
   "cell_type": "markdown",
   "metadata": {},
   "source": [
    "xESMF recognize a DataArray named 'mask' as the mask to use for the regridding:"
   ]
  },
  {
   "cell_type": "code",
   "execution_count": null,
   "metadata": {},
   "outputs": [],
   "source": [
    "binarymask = xr.where(tpxo9_merged['hz'] >0, 1, 0)\n",
    "tpxo9_merged['mask'] = binarymask.transpose(*('lat_z', 'lon_z'))"
   ]
  },
  {
   "cell_type": "markdown",
   "metadata": {},
   "source": [
    "Verification plot (subsampled for speed)"
   ]
  },
  {
   "cell_type": "code",
   "execution_count": null,
   "metadata": {},
   "outputs": [],
   "source": [
    "plt.figure(figsize=[10,6])\n",
    "plt.pcolormesh(tpxo9_merged['mask'].values[::10, ::10], cmap='binary')\n",
    "plt.colorbar()"
   ]
  },
  {
   "cell_type": "code",
   "execution_count": null,
   "metadata": {},
   "outputs": [],
   "source": [
    "tideamp_masked = tpxo9_merged['tideamp'].where(tpxo9_merged['mask'] != 0)"
   ]
  },
  {
   "cell_type": "code",
   "execution_count": null,
   "metadata": {},
   "outputs": [],
   "source": [
    "plt.figure(figsize=[10,6])\n",
    "plt.pcolormesh(tideamp_masked.values[::10, ::10], \n",
    "               vmin=0, vmax=1, cmap='viridis')\n",
    "plt.colorbar()"
   ]
  },
  {
   "cell_type": "markdown",
   "metadata": {},
   "source": [
    "## Regrid tidal amplitude to model grid:"
   ]
  },
  {
   "cell_type": "code",
   "execution_count": null,
   "metadata": {},
   "outputs": [],
   "source": [
    "OM4grid = xr.open_dataset(OM4gridfile)"
   ]
  },
  {
   "cell_type": "markdown",
   "metadata": {},
   "source": [
    "rename dimensions (xESMF requirement):"
   ]
  },
  {
   "cell_type": "code",
   "execution_count": null,
   "metadata": {},
   "outputs": [],
   "source": [
    "OM4grid = OM4grid.rename({'geolon': 'lon', 'geolat': 'lat'})"
   ]
  },
  {
   "cell_type": "code",
   "execution_count": null,
   "metadata": {},
   "outputs": [],
   "source": [
    "tpxo9_merged = tpxo9_merged.rename({'lon_z': 'lon', 'lat_z': 'lat'})"
   ]
  },
  {
   "cell_type": "markdown",
   "metadata": {},
   "source": [
    "Create the mask for xESMF: copy the wet array is just what we need!"
   ]
  },
  {
   "cell_type": "code",
   "execution_count": null,
   "metadata": {},
   "outputs": [],
   "source": [
    "OM4grid['mask'] = OM4grid['wet']"
   ]
  },
  {
   "cell_type": "markdown",
   "metadata": {},
   "source": [
    "Create the regridder:"
   ]
  },
  {
   "cell_type": "code",
   "execution_count": null,
   "metadata": {},
   "outputs": [],
   "source": [
    "%%time\n",
    "\n",
    "regrid = xesmf.Regridder(tpxo9_merged, OM4grid, 'bilinear',\n",
    "                         periodic=True, reuse_weights=False,\n",
    "                         extrap_method='nearest_s2d', extrap_num_src_pnts=1,\n",
    "                         filename='regrid_wgts_TPXOv9_OM4p25.nc')"
   ]
  },
  {
   "cell_type": "markdown",
   "metadata": {},
   "source": [
    "then regrid the tidal amplitude array:"
   ]
  },
  {
   "cell_type": "code",
   "execution_count": null,
   "metadata": {},
   "outputs": [],
   "source": [
    "tideamp_regridded = regrid(tideamp_masked)"
   ]
  },
  {
   "cell_type": "code",
   "execution_count": null,
   "metadata": {},
   "outputs": [],
   "source": [
    "tideamp_regridded.load()"
   ]
  },
  {
   "cell_type": "code",
   "execution_count": null,
   "metadata": {},
   "outputs": [],
   "source": [
    "plt.figure(figsize=[10,6])\n",
    "tideamp_regridded.plot(vmin=0, vmax=1,\n",
    "                       x='lon', y='lat',\n",
    "                       cmap='viridis')"
   ]
  },
  {
   "cell_type": "markdown",
   "metadata": {},
   "source": [
    "## Apply model mask"
   ]
  },
  {
   "cell_type": "markdown",
   "metadata": {},
   "source": [
    "xESMF returns zeros for masked values, so we need to mask with the model's wet array:"
   ]
  },
  {
   "cell_type": "code",
   "execution_count": null,
   "metadata": {},
   "outputs": [],
   "source": [
    "tideamp_regridded = tideamp_regridded.where(OM4grid['wet'] !=0)"
   ]
  },
  {
   "cell_type": "code",
   "execution_count": null,
   "metadata": {},
   "outputs": [],
   "source": [
    "plt.figure(figsize=[10,6])\n",
    "tideamp_regridded.plot(vmin=0, vmax=1,\n",
    "                       x='lon', y='lat',\n",
    "                       cmap='viridis')"
   ]
  },
  {
   "cell_type": "markdown",
   "metadata": {},
   "source": [
    "verify the masking is consistent:"
   ]
  },
  {
   "cell_type": "code",
   "execution_count": null,
   "metadata": {},
   "outputs": [],
   "source": [
    "masked = xr.where(~np.isnan(tideamp_regridded), 1,0)\n",
    "np.allclose(masked.values, OM4grid['wet'].values)"
   ]
  },
  {
   "cell_type": "markdown",
   "metadata": {},
   "source": [
    "## Create the dataset"
   ]
  },
  {
   "cell_type": "code",
   "execution_count": null,
   "metadata": {},
   "outputs": [],
   "source": [
    "out = xr.Dataset()\n",
    "out['tideamp'] = xr.DataArray(data=tideamp_regridded.values,\n",
    "                              dims=('ny', 'nx'),\n",
    "                              attrs = {'units': \"m.s-1\"})\n",
    "                              \n",
    "out['lon'] = xr.DataArray(data=tideamp_regridded.lon.values,\n",
    "                          dims=('ny', 'nx'),\n",
    "                          attrs = {'axis': 'X', 'units': 'degrees_east',\n",
    "                                   'long_name': 'Longitude',\n",
    "                                   'standard_name': 'longitude'})\n",
    "\n",
    "out['lat'] = xr.DataArray(data=tideamp_regridded.lat.values,\n",
    "                          dims=('ny', 'nx'),\n",
    "                          attrs = {'axis': 'Y', 'units': 'degrees_north',\n",
    "                                   'long_name': 'Latitude',\n",
    "                                   'standard_name': 'latitude'})\n",
    "\n",
    "encoding = {'lon': {'_FillValue': -1e+20},\n",
    "            'lat': {'_FillValue': -1e+20},\n",
    "            'tideamp': {'_FillValue': -1e+20,\n",
    "                        'missing_value': -1e+20}}\n",
    "\n",
    "out.to_netcdf('tidal_amplitude_TPXO9_OM4p25.v20210125.nc',\n",
    "              format='NETCDF3_64BIT', engine='netcdf4',\n",
    "              encoding=encoding)"
   ]
  },
  {
   "cell_type": "code",
   "execution_count": null,
   "metadata": {},
   "outputs": [],
   "source": [
    "!md5sum -c checksums_TPXO9.txt"
   ]
  },
  {
   "cell_type": "markdown",
   "metadata": {},
   "source": [
    "## Appendix: checking grids are the same in TPXO v8 and v9"
   ]
  },
  {
   "cell_type": "code",
   "execution_count": null,
   "metadata": {},
   "outputs": [],
   "source": [
    "import xarray as xr\n",
    "import numpy as np\n",
    "\n",
    "grid8 = xr.open_dataset(f'{tpxodir}/TPXO8/grid_tpxo8atlas_30.nc')\n",
    "grid9 = xr.open_dataset(f'{tpxodir}/TPXO9/grid_tpxo9_atlas_30_v2.nc')\n",
    "\n",
    "for var in ['lon_z', 'lon_u', 'lon_v', 'lat_z', 'lat_u', 'lat_v']:\n",
    "    print(np.allclose(grid8[var], grid9[var], atol=1e-16))"
   ]
  },
  {
   "cell_type": "markdown",
   "metadata": {},
   "source": [
    "However this is not true for bathymetry:"
   ]
  },
  {
   "cell_type": "code",
   "execution_count": null,
   "metadata": {},
   "outputs": [],
   "source": [
    "for var in ['hz', 'hu', 'hv']:\n",
    "    print(np.allclose(grid8[var], grid9[var], atol=1e-16))"
   ]
  }
 ],
 "metadata": {
  "kernelspec": {
   "display_name": "TPXO",
   "language": "python",
   "name": "tpxo_interp"
  },
  "language_info": {
   "codemirror_mode": {
    "name": "ipython",
    "version": 3
   },
   "file_extension": ".py",
   "mimetype": "text/x-python",
   "name": "python",
   "nbconvert_exporter": "python",
   "pygments_lexer": "ipython3",
   "version": "3.8.6"
  }
 },
 "nbformat": 4,
 "nbformat_minor": 4
}
